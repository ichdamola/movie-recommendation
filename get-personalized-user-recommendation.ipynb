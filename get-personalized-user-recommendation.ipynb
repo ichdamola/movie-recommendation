{
 "cells": [
  {
   "cell_type": "markdown",
   "id": "38d33284-1cd9-48f6-a794-9860f5185e2e",
   "metadata": {},
   "source": [
    "### Get Personalize User Recommendation"
   ]
  },
  {
   "cell_type": "code",
   "execution_count": 7,
   "id": "4f2db711-d138-44b8-835e-08cfb4e0e909",
   "metadata": {},
   "outputs": [],
   "source": [
    "def get_item_url(item_uid):\n",
    "    import pandas as pd\n",
    "    item_video_df = pd.read_csv('data/s3_bucket_links_1.csv')\n",
    "    filtered_df = item_video_df[item_video_df['item_id'] == item_uid]\n",
    "    return filtered_df['URL'].iloc[0] if not filtered_df.empty else None"
   ]
  },
  {
   "cell_type": "code",
   "execution_count": 12,
   "id": "2f51eea3-dfa7-447f-9550-4ce746473145",
   "metadata": {},
   "outputs": [
    {
     "name": "stdout",
     "output_type": "stream",
     "text": [
      "Item: 1818e44ced0eeaa5676393aa4ce97a91 Url: https://tezda-images.s3.amazonaws.com/shortVideos/1818e44ced0eeaa5676393aa4ce97a91.mp4 score: 0.0452737\n",
      "Item: c59e9cfffc0cba73c9673131ac270009 Url: https://tezda-images.s3.amazonaws.com/shortVideos/c59e9cfffc0cba73c9673131ac270009.mp4 score: 0.0332434\n",
      "Item: 663dfd0f6bb929532c0649e32a73df1a Url: https://tezda-images.s3.amazonaws.com/shortVideos/663dfd0f6bb929532c0649e32a73df1a.mp4 score: 0.0307111\n",
      "Item: e89ef1a169442cd3fd97768f8b7eca85 Url: https://tezda-images.s3.amazonaws.com/shortVideos/e89ef1a169442cd3fd97768f8b7eca85.mp4 score: 0.0304375\n",
      "Item: cea477054ab26d3e85468347d2b339da Url: https://tezda-images.s3.amazonaws.com/shortVideos/cea477054ab26d3e85468347d2b339da.mp4 score: 0.0292255\n",
      "Item: 23070d03a2b374b078414bf73666a4df Url: https://tezda-images.s3.amazonaws.com/shortVideos/23070d03a2b374b078414bf73666a4df.mp4 score: 0.0287672\n",
      "Item: 1c001092a3b5105d4be173d3a58f5305 Url: https://tezda-images.s3.amazonaws.com/shortVideos/1c001092a3b5105d4be173d3a58f5305.mp4 score: 0.0268238\n",
      "Item: b6151a57fd74de9ee3bd0ca09bb82b45 Url: https://tezda-images.s3.amazonaws.com/shortVideos/b6151a57fd74de9ee3bd0ca09bb82b45.mp4 score: 0.0253624\n",
      "Item: 7cbe8001605e39226a03bd7e715e0f5b Url: https://tezda-images.s3.amazonaws.com/shortVideos/7cbe8001605e39226a03bd7e715e0f5b.mp4 score: 0.0248775\n",
      "Item: be5a7b7ca77f8e0de9fe5a12479ef45d Url: https://tezda-images.s3.amazonaws.com/shortVideos/be5a7b7ca77f8e0de9fe5a12479ef45d.mp4 score: 0.0239339\n"
     ]
    }
   ],
   "source": [
    "import boto3\n",
    "session = boto3.session.Session(profile_name='default')\n",
    "\n",
    "# Create AWS Personalize client\n",
    "client = session.client('personalize-runtime')\n",
    "\n",
    "try:\n",
    "    # Call get_recommendations API\n",
    "    response = client.get_recommendations(\n",
    "        campaignArn='arn:aws:personalize:eu-west-1:219702648416:campaign/user-personalization-poc',\n",
    "        userId='a2288579b87050b04d5e0188a96a54fb',\n",
    "        numResults=10\n",
    "    )\n",
    "\n",
    "    # Iterate through recommended items\n",
    "    for item in response['itemList']:\n",
    "        print(\"Item: {} Url: {} score: {}\".format(item['itemId'], get_item_url(item['itemId']), item['score']))\n",
    "\n",
    "except botocore.exceptions.EndpointConnectionError as e:\n",
    "    print(\"Error connecting to AWS Personalize endpoint:\", e)\n",
    "except botocore.exceptions.ClientError as e:\n",
    "    print(\"An error occurred:\", e)"
   ]
  },
  {
   "cell_type": "code",
   "execution_count": null,
   "id": "003eeb54-622b-47d0-bddb-1c4c685d1115",
   "metadata": {},
   "outputs": [],
   "source": []
  }
 ],
 "metadata": {
  "kernelspec": {
   "display_name": "Python 3 (ipykernel)",
   "language": "python",
   "name": "python3"
  },
  "language_info": {
   "codemirror_mode": {
    "name": "ipython",
    "version": 3
   },
   "file_extension": ".py",
   "mimetype": "text/x-python",
   "name": "python",
   "nbconvert_exporter": "python",
   "pygments_lexer": "ipython3",
   "version": "3.11.7"
  }
 },
 "nbformat": 4,
 "nbformat_minor": 5
}
